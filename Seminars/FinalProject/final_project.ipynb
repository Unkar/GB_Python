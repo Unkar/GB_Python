{
 "cells": [
  {
   "cell_type": "markdown",
   "metadata": {},
   "source": [
    "# Итоговый проект.\n",
    "\n",
    "## Задание\n",
    "\n",
    "f(x) = -12x^4*sin(cos(x)) - 18x^3+5x^2 + 10x - 30\n",
    "\n",
    "1. Определить корни\n",
    "   \n",
    "2. Найти интервалы, на которых функция возрастает\n",
    "\n",
    "3. Найти интервалы, на которых функция убывает\n",
    "\n",
    "4. Построить график\n",
    "\n",
    "5. Вычислить вершину(ы)\n",
    "\n",
    "6. Определить промежутки, на котором f > 0\n",
    "\n",
    "7. Определить промежутки, на котором f < 0"
   ]
  },
  {
   "cell_type": "code",
   "execution_count": null,
   "metadata": {},
   "outputs": [],
   "source": [
    "import sympy as sp\n",
    "from sympy.plotting import plot\n",
    "sp.init_printing()"
   ]
  },
  {
   "cell_type": "code",
   "execution_count": null,
   "metadata": {},
   "outputs": [],
   "source": [
    "x= sp.Symbol('x')\n",
    "f = -12*x**4*sp.sin(sp.cos(x)) - 18*x**3+5*x**2 + 10*x - 30\n",
    "#интервал наблюдения\n",
    "domain = (-20,20)"
   ]
  },
  {
   "cell_type": "markdown",
   "metadata": {},
   "source": [
    "### Задача 4.\n",
    "Построить график"
   ]
  },
  {
   "cell_type": "code",
   "execution_count": null,
   "metadata": {},
   "outputs": [],
   "source": [
    "#Построение графика необходимо для получения общего представления о функции\n",
    "plot(f, (x, domain[0], domain[1]), title='f(x) = -12x^4*sin(cos(x)) - 18x^3+5x^2 + 10x - 30.')\n"
   ]
  },
  {
   "cell_type": "markdown",
   "metadata": {},
   "source": [
    "### Задача 1.\n",
    "\n",
    "Определить корни f(x) = -12x^4*sin(cos(x)) - 18x^3+5x^2 + 10x - 30."
   ]
  },
  {
   "cell_type": "code",
   "execution_count": null,
   "metadata": {},
   "outputs": [],
   "source": [
    "solutions = []\n",
    "#Вложенные тригонометрические функции не позволяют использовать sp.solve.\n",
    "#Выходим из положения с помощью sp.nsolve. nsolve - возвращает ближайшее решение.\n",
    "#Поэтому исходно пришлось посмотреть график функции и посмотреть периодичность, чтобы задать шаг.\n",
    "#дефолтный шаг в 1 позволяет получить все решения\n",
    "for i in range(domain[0],domain[1]): \n",
    "    try:\n",
    "        solution = sp.nsolve(f,x,i)     \n",
    "        if solution not in solutions:\n",
    "            solutions.append(solution)      \n",
    "    except:\n",
    "        pass\n",
    "solutions.sort()\n",
    "#проверка выхода за границы интервала\n",
    "if solutions[0] < domain[0]:\n",
    "    solutions.pop(0)\n",
    "if solutions[-1] > domain[1]:\n",
    "    solutions.pop(-1)\n",
    "print(f\"Решение уравнения на интервале {domain}: {solutions}\")"
   ]
  },
  {
   "cell_type": "markdown",
   "metadata": {},
   "source": [
    "### Задача 5. Вычислить вершину\n",
    "\n",
    "Определяем экстремумы функции. В точках экстремума функции её первая производная равна нулю."
   ]
  },
  {
   "cell_type": "code",
   "execution_count": null,
   "metadata": {},
   "outputs": [],
   "source": [
    "f1 = sp.diff(f,x)\n",
    "print(f\"Первая производная: {f1}\")\n",
    "solutions_f1 = []\n",
    "for i in range(domain[0],domain[1]):\n",
    "    try:\n",
    "        solution = sp.nsolve(f1,x,i)\n",
    "        if solution not in solutions_f1:\n",
    "            solutions_f1.append(solution)      \n",
    "    except:\n",
    "        pass\n",
    "solutions_f1.sort()\n",
    "print(f\"Вершины функции (экстремумы функции) на интервале {domain}: {solutions_f1}\")\n",
    "#Добавляем начало и конец интевала в список решений\n",
    "solutions_f1.insert(0,domain[0])\n",
    "solutions_f1.append(domain[1])"
   ]
  },
  {
   "cell_type": "code",
   "execution_count": null,
   "metadata": {},
   "outputs": [],
   "source": [
    "func_increasing = []\n",
    "for i in range(len(solutions_f1)-1):\n",
    "    if (f1.subs(x,((solutions_f1[i+1] + solutions_f1[i])/2))) > 0:\n",
    "        func_increasing.append((solutions_f1[i],solutions_f1[i+1]))\n",
    "\n",
    "print(f\"В диапазоне {domain} Интервалы возрастания функции: {func_increasing} \")"
   ]
  },
  {
   "cell_type": "markdown",
   "metadata": {},
   "source": [
    "### Задача 3\n",
    "Найти интервалы, на которых функция убывает"
   ]
  },
  {
   "cell_type": "code",
   "execution_count": null,
   "metadata": {},
   "outputs": [],
   "source": [
    "func_decreasing = []\n",
    "for i in range(len(solutions_f1)-1):\n",
    "    if (f1.subs(x,((solutions_f1[i+1] + solutions_f1[i])/2))) < 0:\n",
    "        func_decreasing.append((solutions_f1[i],solutions_f1[i+1]))\n",
    "\n",
    "print(f\"В диапазоне {domain} интервалы убывания функции: {func_decreasing} \")"
   ]
  },
  {
   "cell_type": "markdown",
   "metadata": {},
   "source": [
    "### Задача 6.\n",
    "Определить промежутки, на котором f > 0"
   ]
  },
  {
   "cell_type": "code",
   "execution_count": null,
   "metadata": {},
   "outputs": [],
   "source": [
    "#добавляем в список решений начало и конец интервала наблюдения для формирования промежутков\n",
    "iter_value = solutions\n",
    "if iter_value[0] > domain[0]:\n",
    "    iter_value.insert(0,domain[0])\n",
    "if iter_value[-1] < domain[1]:\n",
    "    iter_value.append(domain[1])\n",
    "upper_interval = []\n",
    "\n",
    "for i in range(len(iter_value)-1):\n",
    "    if (f.subs(x,((iter_value[i+1] + iter_value[i])/2))) > 0:\n",
    "        upper_interval.append((iter_value[i],iter_value[i+1]))\n",
    "\n",
    "print(f\"В диапазоне {domain} интервалы, в которых функция принимает положительные значения: {upper_interval} \")\n",
    "\n",
    "\n"
   ]
  },
  {
   "cell_type": "markdown",
   "metadata": {},
   "source": [
    "### Задача 7.\n",
    "\n",
    "Определить промежутки, на котором f < 0"
   ]
  },
  {
   "cell_type": "code",
   "execution_count": null,
   "metadata": {},
   "outputs": [],
   "source": [
    "lower_interval = []\n",
    "for i in range(len(iter_value)-1):\n",
    "    if (f.subs(x,((iter_value[i+1] + iter_value[i])/2))) < 0:\n",
    "        lower_interval.append((iter_value[i],iter_value[i+1]))\n",
    "\n",
    "print(f\"В диапазоне {domain} интервалы, в которых функция принимает отрицательные значения: {lower_interval} \")"
   ]
  }
 ],
 "metadata": {
  "kernelspec": {
   "display_name": "Python 3.10.7 64-bit",
   "language": "python",
   "name": "python3"
  },
  "language_info": {
   "codemirror_mode": {
    "name": "ipython",
    "version": 3
   },
   "file_extension": ".py",
   "mimetype": "text/x-python",
   "name": "python",
   "nbconvert_exporter": "python",
   "pygments_lexer": "ipython3",
   "version": "3.10.7"
  },
  "orig_nbformat": 4,
  "vscode": {
   "interpreter": {
    "hash": "48d7a05725f00243ff92f1d3dff1cc379d76fba23b21b1806f4b1d4b48a4fd68"
   }
  }
 },
 "nbformat": 4,
 "nbformat_minor": 2
}
